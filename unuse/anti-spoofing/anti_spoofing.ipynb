{
  "nbformat": 4,
  "nbformat_minor": 0,
  "metadata": {
    "colab": {
      "name": "anti-spoofing.ipynb",
      "private_outputs": true,
      "provenance": [],
      "authorship_tag": "ABX9TyOwezaJfUTiOdUgQsrICOOO",
      "include_colab_link": true
    },
    "kernelspec": {
      "name": "python3",
      "display_name": "Python 3"
    },
    "language_info": {
      "name": "python"
    }
  },
  "cells": [
    {
      "cell_type": "markdown",
      "metadata": {
        "id": "view-in-github",
        "colab_type": "text"
      },
      "source": [
        "<a href=\"https://colab.research.google.com/github/hyesukim1/Face-Verification-Project/blob/main/anti_spoofing.ipynb\" target=\"_parent\"><img src=\"https://colab.research.google.com/assets/colab-badge.svg\" alt=\"Open In Colab\"/></a>"
      ]
    },
    {
      "cell_type": "code",
      "execution_count": null,
      "metadata": {
        "id": "dSpL-fkBurzW"
      },
      "outputs": [],
      "source": [
        "!pip install kaggle\n",
        "from google.colab import files\n",
        "files.upload()"
      ]
    },
    {
      "cell_type": "code",
      "source": [
        "ls -1ha kaggle.json"
      ],
      "metadata": {
        "id": "KjrURxoqzaOQ"
      },
      "execution_count": null,
      "outputs": []
    },
    {
      "cell_type": "code",
      "source": [
        "!mkdir -p ~/.kaggle\n",
        "!cp kaggle.json ~/.kaggle/\n",
        "\n",
        "# Permission Warning 방지\n",
        "!chmod 600 ~/.kaggle/kaggle.json"
      ],
      "metadata": {
        "id": "3hlhoRmczawe"
      },
      "execution_count": null,
      "outputs": []
    },
    {
      "cell_type": "code",
      "source": [
        "!kaggle datasets download -d ciplab/real-and-fake-face-detection"
      ],
      "metadata": {
        "id": "hXLbiTmJze7e"
      },
      "execution_count": null,
      "outputs": []
    },
    {
      "cell_type": "code",
      "source": [
        "!ls"
      ],
      "metadata": {
        "id": "Oyipm6R_zoZd"
      },
      "execution_count": null,
      "outputs": []
    },
    {
      "cell_type": "code",
      "source": [
        "!unzip -qq \"real-and-fake-face-detection.zip\""
      ],
      "metadata": {
        "id": "pmhxMpRWzuPz"
      },
      "execution_count": null,
      "outputs": []
    },
    {
      "cell_type": "code",
      "source": [
        "!pip install tensorflow-gpu==2.0.0-alpha\n",
        "!pip install split-folders"
      ],
      "metadata": {
        "id": "wKYFw3RRz0t-"
      },
      "execution_count": null,
      "outputs": []
    },
    {
      "cell_type": "code",
      "source": [
        "from tensorflow.keras.preprocessing.image import ImageDataGenerator\n",
        "from tensorflow.keras.layers import GlobalAveragePooling2D\n",
        "from tensorflow.keras.layers import BatchNormalization\n",
        "from tensorflow.keras.applications import MobileNetV2\n",
        "from tensorflow.keras.optimizers import Adam\n",
        "from tensorflow.keras.layers import Dropout\n",
        "from tensorflow.keras.layers import Dense\n",
        "from tensorflow.keras import Sequential\n",
        "import matplotlib.pyplot as plt\n",
        "import tensorflow as tf\n",
        "import splitfolders\n",
        "import numpy as np\n",
        "import cv2\n",
        "import os\n",
        "\n",
        "\n",
        "# print(os.listdir(\"../input\"))"
      ],
      "metadata": {
        "id": "2iLUpFjbz2MV"
      },
      "execution_count": null,
      "outputs": []
    },
    {
      "cell_type": "code",
      "source": [
        "real = \"/content/real_and_fake_face_detection/real_and_fake_face/training_real/\"\n",
        "fake = \"/content/real_and_fake_face_detection/real_and_fake_face/training_fake/\"\n",
        "\n",
        "real_path = os.listdir(real)\n",
        "fake_path = os.listdir(fake)"
      ],
      "metadata": {
        "id": "Er10MrRiz5Mm"
      },
      "execution_count": null,
      "outputs": []
    },
    {
      "cell_type": "code",
      "source": [
        "def load_img(path):\n",
        "    image = cv2.imread(path)\n",
        "    image = cv2.resize(image, (224, 224))\n",
        "    return image[...,::-1]"
      ],
      "metadata": {
        "id": "xgkjpA0n02mP"
      },
      "execution_count": null,
      "outputs": []
    },
    {
      "cell_type": "code",
      "source": [
        "fig = plt.figure(figsize=(4,4))\n",
        "\n",
        "for i in range(16):\n",
        "  plt.subplot(4, 4, i+1)\n",
        "  plt.imshow(load_img(real +  real_path[i]), cmap='gray')\n",
        "  plt.title(\"real face\")\n",
        "  plt.axis('off')\n",
        "\n",
        "plt.show()"
      ],
      "metadata": {
        "id": "9kFOz268040t"
      },
      "execution_count": null,
      "outputs": []
    },
    {
      "cell_type": "code",
      "source": [
        "fig = plt.figure(figsize=(4,4))\n",
        "\n",
        "for i in range(16):\n",
        "  plt.subplot(4, 4, i+1)\n",
        "  plt.imshow(load_img(fake +  fake_path[i]), cmap='gray')\n",
        "  plt.title(\"fake face\")\n",
        "  plt.axis('off')\n",
        "\n",
        "plt.show()"
      ],
      "metadata": {
        "id": "Iv6j-bXN1Tj-"
      },
      "execution_count": null,
      "outputs": []
    },
    {
      "cell_type": "code",
      "source": [
        "train_datagen = ImageDataGenerator(horizontal_flip=True,\n",
        "                                    vertical_flip=False,\n",
        "                                    rescale=1./255)"
      ],
      "metadata": {
        "id": "fhUaKTVq1eK-"
      },
      "execution_count": null,
      "outputs": []
    },
    {
      "cell_type": "code",
      "source": [
        "dataset_path = '/content/real_and_fake_face_detection/real_and_fake_face'\n",
        "train = train_datagen.flow_from_directory(dataset_path,\n",
        "                                          class_mode = 'binary',\n",
        "                                          target_size=(96, 96),\n",
        "                                          batch_size=32)"
      ],
      "metadata": {
        "id": "j1BJ4wci18cZ"
      },
      "execution_count": null,
      "outputs": []
    },
    {
      "cell_type": "code",
      "source": [
        "mobilenetV2 = MobileNetV2(input_shape=(96,96,3),\n",
        "                          include_top = False,\n",
        "                          weights = 'imagenet')\n",
        "\n",
        "average_layer = GlobalAveragePooling2D()\n",
        "\n",
        "model = Sequential([\n",
        "                    mobilenetV2,\n",
        "                    average_layer,\n",
        "                    Dense(256, activation=tf.nn.relu),\n",
        "                    BatchNormalization(),\n",
        "                    Dropout(0.2),\n",
        "                    Dense(2, activation=tf.nn.softmax)\n",
        "])"
      ],
      "metadata": {
        "id": "i5IClEui2R3G"
      },
      "execution_count": null,
      "outputs": []
    },
    {
      "cell_type": "code",
      "source": [
        "model.compile(optimizer=Adam(lr=0.001),\n",
        "              loss = 'sparse_categorical_crossentropy',\n",
        "              metrics=['accuracy'])"
      ],
      "metadata": {
        "id": "btniImZo2__v"
      },
      "execution_count": null,
      "outputs": []
    },
    {
      "cell_type": "code",
      "source": [
        "def scheduler(epoch):\n",
        "  if epoch <= 2:\n",
        "    return 0.001\n",
        "  elif epoch > 2 and epoch <=15:\n",
        "    return 0.0001\n",
        "  else:\n",
        "    return 0.00001\n",
        "\n",
        "lr_callbacks = tf.keras.callbacks.LearningRateScheduler(scheduler)"
      ],
      "metadata": {
        "id": "28z66k4Z4JHm"
      },
      "execution_count": null,
      "outputs": []
    },
    {
      "cell_type": "code",
      "source": [
        "model.fit_generator(train,\n",
        "                    epochs=50,\n",
        "                    callbacks=[lr_callbacks])"
      ],
      "metadata": {
        "id": "K5Gy5HFA49PE"
      },
      "execution_count": null,
      "outputs": []
    },
    {
      "cell_type": "code",
      "source": [
        ""
      ],
      "metadata": {
        "id": "tr-Ph67p5F1M"
      },
      "execution_count": null,
      "outputs": []
    }
  ]
}