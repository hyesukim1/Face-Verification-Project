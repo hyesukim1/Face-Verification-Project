{
  "nbformat": 4,
  "nbformat_minor": 0,
  "metadata": {
    "colab": {
      "name": "facenet_수정",
      "private_outputs": true,
      "provenance": [],
      "collapsed_sections": [],
      "authorship_tag": "ABX9TyPDjezisFwydmPkXctIuoQN",
      "include_colab_link": true
    },
    "kernelspec": {
      "name": "python3",
      "display_name": "Python 3"
    },
    "language_info": {
      "name": "python"
    }
  },
  "cells": [
    {
      "cell_type": "markdown",
      "metadata": {
        "id": "view-in-github",
        "colab_type": "text"
      },
      "source": [
        "<a href=\"https://colab.research.google.com/github/hyesukim1/Face-Verification-Project/blob/main/facenet_%EC%88%98%EC%A0%95.ipynb\" target=\"_parent\"><img src=\"https://colab.research.google.com/assets/colab-badge.svg\" alt=\"Open In Colab\"/></a>"
      ]
    },
    {
      "cell_type": "code",
      "execution_count": null,
      "metadata": {
        "id": "5t4kBU4Xd5yk"
      },
      "outputs": [],
      "source": [
        "from google.colab import drive\n",
        "drive.mount('/content/drive')"
      ]
    },
    {
      "cell_type": "code",
      "source": [
        "from keras.models import load_model\n",
        "\n",
        "model = load_model('/content/drive/MyDrive/keras-facenet/model/facenet_keras.h5')\n",
        "\n",
        "print(model.inputs)\n",
        "print(model.outputs)"
      ],
      "metadata": {
        "id": "gU31GO1td-05"
      },
      "execution_count": null,
      "outputs": []
    },
    {
      "cell_type": "code",
      "source": [
        "pip install mtcnn"
      ],
      "metadata": {
        "id": "TYiiVtNqeHka"
      },
      "execution_count": null,
      "outputs": []
    },
    {
      "cell_type": "code",
      "source": [
        "pip install keras_facenet"
      ],
      "metadata": {
        "id": "duH1RcLle1Df"
      },
      "execution_count": null,
      "outputs": []
    },
    {
      "cell_type": "code",
      "source": [
        "from fileinput import filename\n",
        "import os\n",
        "from os import listdir\n",
        "import scipy\n",
        "import cv2\n",
        "import dlib \n",
        "import numpy as np\n",
        "from PIL import Image # 이미지 크기 조정 라이브러리\n",
        "import matplotlib.pyplot as plt\n",
        "import tensorflow as tf \n",
        "from mtcnn.mtcnn import MTCNN #불러온 사진에 얼굴 감자히는 '얼굴 감지기'라이브러리\n",
        "import keras\n",
        "from keras.models import load_model\n",
        "from keras_facenet import FaceNet\n",
        "from tensorflow.keras.models import Model\n",
        "from numpy import savez_compressed\n",
        "from numpy import expand_dims\n",
        "from sklearn import preprocessing# 3명의 유명인사 얼굴 데이터셋으로 분류기 개발\n",
        "from numpy import load\n",
        "from sklearn.metrics import accuracy_score\n",
        "from sklearn.preprocessing import LabelEncoder\n",
        "from sklearn.preprocessing import Normalizer\n",
        "from sklearn.svm import SVC"
      ],
      "metadata": {
        "id": "q5SwgRdce3Fx"
      },
      "execution_count": null,
      "outputs": []
    },
    {
      "cell_type": "code",
      "source": [
        "def extract_face(filename, input_size=(160, 160)):\n",
        "  \n",
        "  # 이미지 읽고 컬러 맞추기\n",
        "  image = cv2.cvtColor(cv2.imread(filename), cv2.COLOR_BGR2RGB)\n",
        "  \n",
        "  # mctnn으로 각 이미지 랜드마크 및 경계 박스 얻기(face detection)\n",
        "  detector = MTCNN()\n",
        "  results = detector.detect_faces(image)\n",
        "  x1, y1, width, height = results[0]['box']\n",
        "  x2, y2 = x1 + width, y1 + height\n",
        "\n",
        "  # 전체 사진에서 얼굴만 배열로 추출\n",
        "  pixels = np.array(image)\n",
        "  face = pixels[y1:y2, x1:x2]\n",
        "\n",
        "  # 얼굴만 자른 사진이 모델로 들어갈 수 있게 resize\n",
        "  img = Image.fromarray(face) # 배열 객체를 입력으로 받아 배열 객체에서 만든 이미지 객체를 반환\n",
        "  img = img.resize(input_size)\n",
        "  face_array = np.asarray(img)\n",
        "  return face_array"
      ],
      "metadata": {
        "id": "NPL7Ziupe-_p"
      },
      "execution_count": null,
      "outputs": []
    },
    {
      "cell_type": "code",
      "source": [
        "def load_faces(directory):\n",
        "  # 파일 안에 모든 이미지 불러오고 모든 input 이미지에서 얼굴 추출\n",
        "  faces = []\n",
        "  for filename in listdir(directory):\n",
        "    path = directory + filename\n",
        "    face = extract_face(path)\n",
        "    faces.append(face)\n",
        "  return faces"
      ],
      "metadata": {
        "id": "aKJctdiSjX-I"
      },
      "execution_count": null,
      "outputs": []
    },
    {
      "cell_type": "code",
      "source": [
        "# 하나의 얼굴에 얼굴 임베딩 얻기(facenet 모델을 사용해서 얼굴영역을 임베딩 벡터로 변환)\n",
        "def get_face_embedding(model, face_pixels):\n",
        "  face_pixels = face_pixels.astype('int32')\n",
        "  mean, std = face_pixels.mean(), face_pixels.std()\n",
        "  face_pixels = (face_pixels - mean) / std\n",
        "  samples = expand_dims(face_pixels, axis=0)\n",
        "  face_embedding = model.predict(samples)\n",
        "  return face_embedding"
      ],
      "metadata": {
        "id": "_zOEk4cvjoBZ"
      },
      "execution_count": null,
      "outputs": []
    },
    {
      "cell_type": "code",
      "source": [
        "img_input = '/content/drive/MyDrive/facedataset/train/김희애/김희애.jpg'\n",
        "img_test = '/content/drive/MyDrive/facedataset/test/김희애/김희애test.jpg'\n",
        "\n",
        "first_image_file = extract_face(img_input)\n",
        "second_image_file = extract_face(img_test)\n",
        "first_image_file"
      ],
      "metadata": {
        "id": "SQCJRyihEGqq"
      },
      "execution_count": null,
      "outputs": []
    },
    {
      "cell_type": "code",
      "source": [
        "# input_image embedding 구하기\n",
        "input_image = []\n",
        "embedding = get_face_embedding(model, first_image_file)\n",
        "input_image.append(embedding)\n",
        "input_image = np.asarray(input_image)\n",
        "\n",
        "# compare_image embedding 구하기\n",
        "compare_image = []\n",
        "embedding = get_face_embedding(model, second_image_file)\n",
        "compare_image.append(embedding)\n",
        "compare_image = np.asarray(compare_image)"
      ],
      "metadata": {
        "id": "4lmCp9S43mav"
      },
      "execution_count": null,
      "outputs": []
    },
    {
      "cell_type": "code",
      "source": [
        "dist = np.linalg.norm(input_image - compare_image) # 유클리디안 거리 계산\n",
        "print(dist)"
      ],
      "metadata": {
        "id": "RkWD6VyzDXge"
      },
      "execution_count": null,
      "outputs": []
    }
  ]
}